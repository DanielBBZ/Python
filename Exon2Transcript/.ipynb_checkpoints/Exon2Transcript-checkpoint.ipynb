{
 "cells": [
  {
   "cell_type": "code",
   "execution_count": 73,
   "metadata": {},
   "outputs": [
    {
     "data": {
      "text/html": [
       "<div>\n",
       "<style scoped>\n",
       "    .dataframe tbody tr th:only-of-type {\n",
       "        vertical-align: middle;\n",
       "    }\n",
       "\n",
       "    .dataframe tbody tr th {\n",
       "        vertical-align: top;\n",
       "    }\n",
       "\n",
       "    .dataframe thead th {\n",
       "        text-align: right;\n",
       "    }\n",
       "</style>\n",
       "<table border=\"1\" class=\"dataframe\">\n",
       "  <thead>\n",
       "    <tr style=\"text-align: right;\">\n",
       "      <th></th>\n",
       "      <th>0</th>\n",
       "      <th>1</th>\n",
       "      <th>2</th>\n",
       "      <th>3</th>\n",
       "      <th>4</th>\n",
       "      <th>5</th>\n",
       "      <th>6</th>\n",
       "      <th>7</th>\n",
       "      <th>8</th>\n",
       "    </tr>\n",
       "  </thead>\n",
       "  <tbody>\n",
       "    <tr>\n",
       "      <th>0</th>\n",
       "      <td>1</td>\n",
       "      <td>UcscGene20130723</td>\n",
       "      <td>exon</td>\n",
       "      <td>11874</td>\n",
       "      <td>12227</td>\n",
       "      <td>.</td>\n",
       "      <td>+</td>\n",
       "      <td>.</td>\n",
       "      <td>gene_id \"DDX11L1\"; transcript_id \"uc001aaa.3\";...</td>\n",
       "    </tr>\n",
       "    <tr>\n",
       "      <th>1</th>\n",
       "      <td>1</td>\n",
       "      <td>UcscGene20130723</td>\n",
       "      <td>exon</td>\n",
       "      <td>12613</td>\n",
       "      <td>12721</td>\n",
       "      <td>.</td>\n",
       "      <td>+</td>\n",
       "      <td>.</td>\n",
       "      <td>gene_id \"DDX11L1\"; transcript_id \"uc001aaa.3\";...</td>\n",
       "    </tr>\n",
       "    <tr>\n",
       "      <th>2</th>\n",
       "      <td>1</td>\n",
       "      <td>UcscGene20130723</td>\n",
       "      <td>exon</td>\n",
       "      <td>13221</td>\n",
       "      <td>14409</td>\n",
       "      <td>.</td>\n",
       "      <td>+</td>\n",
       "      <td>.</td>\n",
       "      <td>gene_id \"DDX11L1\"; transcript_id \"uc001aaa.3\";...</td>\n",
       "    </tr>\n",
       "    <tr>\n",
       "      <th>3</th>\n",
       "      <td>1</td>\n",
       "      <td>UcscGene20130723</td>\n",
       "      <td>exon</td>\n",
       "      <td>11874</td>\n",
       "      <td>12227</td>\n",
       "      <td>.</td>\n",
       "      <td>+</td>\n",
       "      <td>.</td>\n",
       "      <td>gene_id \"DDX11L1\"; transcript_id \"uc010nxr.1\";...</td>\n",
       "    </tr>\n",
       "    <tr>\n",
       "      <th>4</th>\n",
       "      <td>1</td>\n",
       "      <td>UcscGene20130723</td>\n",
       "      <td>exon</td>\n",
       "      <td>12646</td>\n",
       "      <td>12697</td>\n",
       "      <td>.</td>\n",
       "      <td>+</td>\n",
       "      <td>.</td>\n",
       "      <td>gene_id \"DDX11L1\"; transcript_id \"uc010nxr.1\";...</td>\n",
       "    </tr>\n",
       "  </tbody>\n",
       "</table>\n",
       "</div>"
      ],
      "text/plain": [
       "   0                 1     2      3      4  5  6  7  \\\n",
       "0  1  UcscGene20130723  exon  11874  12227  .  +  .   \n",
       "1  1  UcscGene20130723  exon  12613  12721  .  +  .   \n",
       "2  1  UcscGene20130723  exon  13221  14409  .  +  .   \n",
       "3  1  UcscGene20130723  exon  11874  12227  .  +  .   \n",
       "4  1  UcscGene20130723  exon  12646  12697  .  +  .   \n",
       "\n",
       "                                                   8  \n",
       "0  gene_id \"DDX11L1\"; transcript_id \"uc001aaa.3\";...  \n",
       "1  gene_id \"DDX11L1\"; transcript_id \"uc001aaa.3\";...  \n",
       "2  gene_id \"DDX11L1\"; transcript_id \"uc001aaa.3\";...  \n",
       "3  gene_id \"DDX11L1\"; transcript_id \"uc010nxr.1\";...  \n",
       "4  gene_id \"DDX11L1\"; transcript_id \"uc010nxr.1\";...  "
      ]
     },
     "execution_count": 73,
     "metadata": {},
     "output_type": "execute_result"
    }
   ],
   "source": [
    "import pandas as pd\n",
    "import numpy as np\n",
    "import csv\n",
    "\n",
    "df =pd.read_csv('test.gtf', header=None, index_col=None, delimiter=\"\\t\")\n",
    "\n",
    "df.head()"
   ]
  },
  {
   "cell_type": "code",
   "execution_count": null,
   "metadata": {
    "collapsed": true
   },
   "outputs": [],
   "source": []
  },
  {
   "cell_type": "code",
   "execution_count": 59,
   "metadata": {},
   "outputs": [
    {
     "data": {
      "text/plain": [
       "['gene_id \"DDX11L1\"',\n",
       " ' transcript_id \"uc010nxr.1\"',\n",
       " ' gene_name \"DDX11L1\"',\n",
       " ' transcript_name \"uc010nxr.1\"',\n",
       " ' ']"
      ]
     },
     "execution_count": 59,
     "metadata": {},
     "output_type": "execute_result"
    }
   ],
   "source": [
    "df[8].str.split(';')[4]"
   ]
  },
  {
   "cell_type": "code",
   "execution_count": 39,
   "metadata": {},
   "outputs": [
    {
     "data": {
      "text/plain": [
       "True"
      ]
     },
     "execution_count": 39,
     "metadata": {},
     "output_type": "execute_result"
    }
   ],
   "source": [
    "df[8][1] == df[8][2]"
   ]
  },
  {
   "cell_type": "code",
   "execution_count": 64,
   "metadata": {},
   "outputs": [],
   "source": [
    "#group by column 8, get the min value in column 3\n",
    "newdf = df.loc[df.groupby(8)[3].idxmin()]"
   ]
  },
  {
   "cell_type": "code",
   "execution_count": null,
   "metadata": {},
   "outputs": [],
   "source": []
  },
  {
   "cell_type": "code",
   "execution_count": 66,
   "metadata": {},
   "outputs": [],
   "source": [
    "#group by column 8, get the max value in column 4, assign this value to the newdf\n",
    "newdf[4] = df.loc[df.groupby(8)[4].idxmax()][4].values"
   ]
  },
  {
   "cell_type": "code",
   "execution_count": null,
   "metadata": {},
   "outputs": [],
   "source": []
  },
  {
   "cell_type": "code",
   "execution_count": 74,
   "metadata": {},
   "outputs": [],
   "source": [
    "newdf.to_csv(\"exon.gtf\", header=None, index = None, sep='\\t', quoting=csv.QUOTE_NONE)"
   ]
  },
  {
   "cell_type": "code",
   "execution_count": 75,
   "metadata": {},
   "outputs": [
    {
     "ename": "SyntaxError",
     "evalue": "invalid syntax (<ipython-input-75-eb258ca834cb>, line 1)",
     "output_type": "error",
     "traceback": [
      "\u001b[1;36m  File \u001b[1;32m\"<ipython-input-75-eb258ca834cb>\"\u001b[1;36m, line \u001b[1;32m1\u001b[0m\n\u001b[1;33m    def exon2transcript('inputfile', 'outputfile'):\u001b[0m\n\u001b[1;37m                                  ^\u001b[0m\n\u001b[1;31mSyntaxError\u001b[0m\u001b[1;31m:\u001b[0m invalid syntax\n"
     ]
    }
   ],
   "source": [
    "def exon2transcript(inputfile):\n",
    "\n",
    "    #group by column 8, get the min value in column 3\n",
    "    newdf = df.loc[df.groupby(8)[3].idxmin()]\n",
    "    \n",
    "    #group by column 8, get the max value in column 4, assign this value to the newdf\n",
    "    newdf[4] = df.loc[df.groupby(8)[4].idxmax()][4].values\n",
    "    \n",
    "    return newdf"
   ]
  },
  {
   "cell_type": "code",
   "execution_count": null,
   "metadata": {
    "collapsed": true
   },
   "outputs": [],
   "source": [
    "newdf.to_csv(\"exon.gtf\", header=None, index = None, sep='\\t', quoting=csv.QUOTE_NONE)"
   ]
  }
 ],
 "metadata": {
  "kernelspec": {
   "display_name": "Python 3",
   "language": "python",
   "name": "python3"
  },
  "language_info": {
   "codemirror_mode": {
    "name": "ipython",
    "version": 3
   },
   "file_extension": ".py",
   "mimetype": "text/x-python",
   "name": "python",
   "nbconvert_exporter": "python",
   "pygments_lexer": "ipython3",
   "version": "3.6.1"
  }
 },
 "nbformat": 4,
 "nbformat_minor": 2
}
