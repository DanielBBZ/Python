{
 "cells": [
  {
   "cell_type": "code",
   "execution_count": 12,
   "metadata": {
    "collapsed": true
   },
   "outputs": [],
   "source": [
    "import io\n",
    "import re\n",
    "import gzip"
   ]
  },
  {
   "cell_type": "code",
   "execution_count": 34,
   "metadata": {
    "collapsed": true
   },
   "outputs": [],
   "source": [
    "myfastq = 'Z:/Users/Daniel/Test/TestProject/PreprocessTrimFilter/Mytest/cell1.fastq'"
   ]
  },
  {
   "cell_type": "code",
   "execution_count": 37,
   "metadata": {
    "collapsed": true
   },
   "outputs": [],
   "source": [
    "mynewfastq = open('Z:/Users/Daniel/Test/TestProject/PreprocessTrimFilter/Mytest/new1.fastq', 'w')"
   ]
  },
  {
   "cell_type": "code",
   "execution_count": 26,
   "metadata": {},
   "outputs": [],
   "source": [
    "polyA_motif = re.compile(r'^([ACGTN]*?[CGTN])([A]{9,}[ACGNT]*$)')"
   ]
  },
  {
   "cell_type": "code",
   "execution_count": 27,
   "metadata": {
    "collapsed": true
   },
   "outputs": [],
   "source": [
    "def open_by_magic(filename):\n",
    "    '''\n",
    "    Adapted from : http://stackoverflow.com/questions/18367511/how-do-i-automatically-handle-decompression-when-reading-a-file-in-python\n",
    "    with modifications\n",
    "    Uses the initial bytes of a file to detect the file compression.\n",
    "\n",
    "    :param str filename: path to the input file\n",
    "    :return: the appropriate file handle for reading\n",
    "    :rtype: file object\n",
    "    '''\n",
    "\n",
    "    ## Add more magic strs here for various compressions\n",
    "    magic_dict = {\"\\x1f\\x8b\\x08\":gzip.open}\n",
    "    max_len = max(len(x) for x in magic_dict)\n",
    "    with open(filename) as f:\n",
    "        file_start = f.read(max_len)\n",
    "        for magic,fn in magic_dict.items():\n",
    "            if file_start.startswith(magic):\n",
    "                return io.BufferedReader(fn(filename))\n",
    "            return open(filename,'r') ## Otherwise just a regular file"
   ]
  },
  {
   "cell_type": "code",
   "execution_count": 28,
   "metadata": {
    "collapsed": true
   },
   "outputs": [],
   "source": [
    "def iterate_fastq(fastq):\n",
    "    '''\n",
    "    Read a fastq file and return the 4 lines as a list\n",
    "    '''\n",
    "    with open_by_magic(fastq) as IN:\n",
    "        while len(IN.readline().strip()) != 0:\n",
    "            yield [IN.readline().rstrip('\\n'),IN.readline().rstrip('\\n'),\n",
    "                   IN.readline().rstrip('\\n'),IN.readline().rstrip('\\n')]"
   ]
  },
  {
   "cell_type": "code",
   "execution_count": 29,
   "metadata": {
    "collapsed": true
   },
   "outputs": [],
   "source": [
    "def write_fastq(read_info,OUT):\n",
    "    ''' Write a fastq file\n",
    "    :param str read_info: a list whose elements are the 4 lines of a fastq\n",
    "    :param fastq_loc: full path to the fastq file to write to\n",
    "    :return: nothing\n",
    "    '''\n",
    "\n",
    "    #out = '\\n'.join(read_info)\n",
    "    OUT.write(read_info+'\\n')"
   ]
  },
  {
   "cell_type": "code",
   "execution_count": 30,
   "metadata": {
    "collapsed": true
   },
   "outputs": [],
   "source": [
    "def trim_read(read,seq_pattern):\n",
    "    match = seq_pattern.match(read)\n",
    "    if match:\n",
    "        trimmed_seq = match.group(1)\n",
    "        tail = match.group(2)\n",
    "        #print \"Trimming {polyT} from the read {read}\".format(polyT=tail,read=read)\n",
    "        return (trimmed_seq,match.start(2))\n",
    "    else:\n",
    "        return (read,0)"
   ]
  },
  {
   "cell_type": "code",
   "execution_count": 31,
   "metadata": {
    "collapsed": true
   },
   "outputs": [],
   "source": [
    "def trimfile(fastq,newfastq):\n",
    "    '''\n",
    "    Iterate over the R1 fastq,3' polyA tail and write as a fastq file\n",
    "    '''\n",
    "    for read_id,seq,p,qual in iterate_fastq(fastq):\n",
    "        trimmed_seq,trimming_index = trim_read(seq,polyA_motif)\n",
    "        if trimming_index: ## Non zero trimming index\n",
    "            qual = qual[0:trimming_index]\n",
    "        #if len(trimmed_seq) < 25: ## Drop reads below 25 b.p\n",
    "        #    reads_dropped_size+=1\n",
    "        #    continue\n",
    "        read_info = read_id+'\\n'+trimmed_seq+'\\n'+p+'\\n'+qual\n",
    "        write_fastq(read_info,newfastq)"
   ]
  },
  {
   "cell_type": "code",
   "execution_count": 36,
   "metadata": {
    "collapsed": true
   },
   "outputs": [],
   "source": [
    "def trimfile(fastq,newfastq):\n",
    "    '''\n",
    "    Iterate over the R1 fastq,3' polyA tail and write as a fastq file\n",
    "    '''\n",
    "    for read_id,seq,p,qual in iterate_fastq(fastq):\n",
    "        trimmed_seq,trimming_index = trim_read(seq,polyA_motif)\n",
    "        if trimming_index: ## Non zero trimming index\n",
    "            qual = qual[0:trimming_index]\n",
    "        if len(trimmed_seq) < 25: ## Drop reads below 25 b.p\n",
    "            reads_dropped+=1\n",
    "            continue\n",
    "        read_info = read_id+'\\n'+trimmed_seq+'\\n'+p+'\\n'+qual\n",
    "        write_fastq(read_info,newfastq)"
   ]
  },
  {
   "cell_type": "code",
   "execution_count": 38,
   "metadata": {},
   "outputs": [
    {
     "ename": "UnboundLocalError",
     "evalue": "local variable 'reads_dropped' referenced before assignment",
     "output_type": "error",
     "traceback": [
      "\u001b[1;31m---------------------------------------------------------------------------\u001b[0m",
      "\u001b[1;31mUnboundLocalError\u001b[0m                         Traceback (most recent call last)",
      "\u001b[1;32m<ipython-input-38-1b1bb362d366>\u001b[0m in \u001b[0;36m<module>\u001b[1;34m()\u001b[0m\n\u001b[1;32m----> 1\u001b[1;33m \u001b[0mtrimfile\u001b[0m\u001b[1;33m(\u001b[0m\u001b[0mmyfastq\u001b[0m\u001b[1;33m,\u001b[0m\u001b[0mmynewfastq\u001b[0m\u001b[1;33m)\u001b[0m\u001b[1;33m\u001b[0m\u001b[0m\n\u001b[0m",
      "\u001b[1;32m<ipython-input-36-b1e05e8f0cc8>\u001b[0m in \u001b[0;36mtrimfile\u001b[1;34m(fastq, newfastq)\u001b[0m\n\u001b[0;32m      8\u001b[0m             \u001b[0mqual\u001b[0m \u001b[1;33m=\u001b[0m \u001b[0mqual\u001b[0m\u001b[1;33m[\u001b[0m\u001b[1;36m0\u001b[0m\u001b[1;33m:\u001b[0m\u001b[0mtrimming_index\u001b[0m\u001b[1;33m]\u001b[0m\u001b[1;33m\u001b[0m\u001b[0m\n\u001b[0;32m      9\u001b[0m         \u001b[1;32mif\u001b[0m \u001b[0mlen\u001b[0m\u001b[1;33m(\u001b[0m\u001b[0mtrimmed_seq\u001b[0m\u001b[1;33m)\u001b[0m \u001b[1;33m<\u001b[0m \u001b[1;36m25\u001b[0m\u001b[1;33m:\u001b[0m \u001b[1;31m## Drop reads below 25 b.p\u001b[0m\u001b[1;33m\u001b[0m\u001b[0m\n\u001b[1;32m---> 10\u001b[1;33m             \u001b[0mreads_dropped\u001b[0m\u001b[1;33m+=\u001b[0m\u001b[1;36m1\u001b[0m\u001b[1;33m\u001b[0m\u001b[0m\n\u001b[0m\u001b[0;32m     11\u001b[0m             \u001b[1;32mcontinue\u001b[0m\u001b[1;33m\u001b[0m\u001b[0m\n\u001b[0;32m     12\u001b[0m         \u001b[0mread_info\u001b[0m \u001b[1;33m=\u001b[0m \u001b[0mread_id\u001b[0m\u001b[1;33m+\u001b[0m\u001b[1;34m'\\n'\u001b[0m\u001b[1;33m+\u001b[0m\u001b[0mtrimmed_seq\u001b[0m\u001b[1;33m+\u001b[0m\u001b[1;34m'\\n'\u001b[0m\u001b[1;33m+\u001b[0m\u001b[0mp\u001b[0m\u001b[1;33m+\u001b[0m\u001b[1;34m'\\n'\u001b[0m\u001b[1;33m+\u001b[0m\u001b[0mqual\u001b[0m\u001b[1;33m\u001b[0m\u001b[0m\n",
      "\u001b[1;31mUnboundLocalError\u001b[0m: local variable 'reads_dropped' referenced before assignment"
     ]
    }
   ],
   "source": [
    "trimfile(myfastq,mynewfastq)"
   ]
  },
  {
   "cell_type": "code",
   "execution_count": 72,
   "metadata": {},
   "outputs": [
    {
     "data": {
      "text/plain": [
       "<_io.TextIOWrapper name='Z:/Users/Daniel/Support/TestCase/3UPX/mySTARRun2/STAR_AS_fastq/1ng-2_S1_cell1.fastq' mode='r' encoding='cp1252'>"
      ]
     },
     "execution_count": 72,
     "metadata": {},
     "output_type": "execute_result"
    }
   ],
   "source": [
    "open_by_magic(myfastq)"
   ]
  },
  {
   "cell_type": "code",
   "execution_count": 73,
   "metadata": {
    "collapsed": true
   },
   "outputs": [],
   "source": [
    "IN = open_by_magic(fastq)"
   ]
  },
  {
   "cell_type": "code",
   "execution_count": 80,
   "metadata": {},
   "outputs": [
    {
     "data": {
      "text/plain": [
       "True"
      ]
     },
     "execution_count": 80,
     "metadata": {},
     "output_type": "execute_result"
    }
   ],
   "source": [
    "IN.readline().strip() != 0"
   ]
  },
  {
   "cell_type": "code",
   "execution_count": 17,
   "metadata": {
    "collapsed": true
   },
   "outputs": [],
   "source": [
    "mynewfastq.close()"
   ]
  },
  {
   "cell_type": "code",
   "execution_count": null,
   "metadata": {
    "collapsed": true
   },
   "outputs": [],
   "source": []
  }
 ],
 "metadata": {
  "kernelspec": {
   "display_name": "Python 3",
   "language": "python",
   "name": "python3"
  },
  "language_info": {
   "codemirror_mode": {
    "name": "ipython",
    "version": 3
   },
   "file_extension": ".py",
   "mimetype": "text/x-python",
   "name": "python",
   "nbconvert_exporter": "python",
   "pygments_lexer": "ipython3",
   "version": "3.6.1"
  }
 },
 "nbformat": 4,
 "nbformat_minor": 2
}
