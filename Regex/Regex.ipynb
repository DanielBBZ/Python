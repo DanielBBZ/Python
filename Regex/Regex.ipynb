{
 "cells": [
  {
   "cell_type": "code",
   "execution_count": 1,
   "metadata": {
    "collapsed": true
   },
   "outputs": [],
   "source": [
    "import re\n",
    "from functools import partial"
   ]
  },
  {
   "cell_type": "code",
   "execution_count": 22,
   "metadata": {
    "collapsed": true
   },
   "outputs": [],
   "source": [
    "vector = 'AAGCAGTGGTATCAACGCAGAGTAC'\n",
    "error = 1\n",
    "multiplex_len = 22"
   ]
  },
  {
   "cell_type": "code",
   "execution_count": 67,
   "metadata": {
    "collapsed": true
   },
   "outputs": [],
   "source": [
    "motif = r'((%s){e<=%i}([ACGT]{%i,%i})[ACGT]*)'%(vector,error,multiplex_len-1,multiplex_len+1)"
   ]
  },
  {
   "cell_type": "code",
   "execution_count": 151,
   "metadata": {
    "collapsed": true
   },
   "outputs": [],
   "source": [
    "motif2 ='(AAGCAGTGGTATCAACGCAGAGTAC|\\wAGCAGTGGTATCAACGCAGAGTAC|A\\wGCAGTGGTATCAACGCAGAGTAC|AA\\wCAGTGGTATCAACGCAGAGTAC|AAG\\wAGTGGTATCAACGCAGAGTAC|AAGC\\wGTGGTATCAACGCAGAGTAC|AAGCA\\wTGGTATCAACGCAGAGTAC|AAGCAG\\wGGTATCAACGCAGAGTAC|AAGCAGT\\wGTATCAACGCAGAGTAC|AAGCAGTG\\wTATCAACGCAGAGTAC|AAGCAGTGG\\wATCAACGCAGAGTAC|AAGCAGTGGT\\wTCAACGCAGAGTAC|AAGCAGTGGTA\\wCAACGCAGAGTAC|AAGCAGTGGTAT\\wAACGCAGAGTAC|AAGCAGTGGTATC\\wACGCAGAGTAC|AAGCAGTGGTATCA\\wCGCAGAGTAC|AAGCAGTGGTATCAA\\wGCAGAGTAC|AAGCAGTGGTATCAAC\\wCAGAGTAC|AAGCAGTGGTATCAACG\\wAGAGTAC|AAGCAGTGGTATCAACGC\\wGAGTAC|AAGCAGTGGTATCAACGCA\\wAGTAC|AAGCAGTGGTATCAACGCAG\\wGTAC|AAGCAGTGGTATCAACGCAGA\\wTAC|AAGCAGTGGTATCAACGCAGAG\\wAC|AAGCAGTGGTATCAACGCAGAGT\\wC|AAGCAGTGGTATCAACGCAGAGTA\\w)([ACGT]{10})([ACGT]{12})(ACG)([T]{1,21})'"
   ]
  },
  {
   "cell_type": "code",
   "execution_count": 152,
   "metadata": {
    "collapsed": true
   },
   "outputs": [],
   "source": [
    "m2=re.findall(motif2, mystring)"
   ]
  },
  {
   "cell_type": "code",
   "execution_count": 153,
   "metadata": {},
   "outputs": [
    {
     "data": {
      "text/plain": [
       "[('AAGCAGTGGTATCAACGCAGAGTAC',\n",
       "  'CCGTCTGAAC',\n",
       "  'GGCAAGGTTCGC',\n",
       "  'ACG',\n",
       "  'TTTTTTTTTTTTTTTTTTTTT')]"
      ]
     },
     "execution_count": 153,
     "metadata": {},
     "output_type": "execute_result"
    }
   ],
   "source": [
    "m2"
   ]
  },
  {
   "cell_type": "code",
   "execution_count": 15,
   "metadata": {
    "collapsed": true
   },
   "outputs": [],
   "source": [
    "mystring = 'AAGCAGTGGTATCAACGCAGAGTACCCGTCTGAACGGCAAGGTTCGCACGTTTTTTTTTTTTTTTTTTTTT'\n",
    "mystring1 ='AAGCAGTGGTATCAACGCAGAGTACCCGTCTGAACGCGTTGCTCCC'\n",
    "mystring2 ='AAGCAGTGGTATCAACGCAGAGTACCCGTCTGAACCTCCCGTGGGTAACGT'"
   ]
  },
  {
   "cell_type": "code",
   "execution_count": 56,
   "metadata": {},
   "outputs": [
    {
     "data": {
      "text/plain": [
       "[('AAGCAGTGGTATCAACGCAGAGTAC',\n",
       "  'CCGTCTGAACGGCAAGGTTCGC',\n",
       "  'ACG',\n",
       "  'TTTTTTTTTTTTTTTTTTTTT')]"
      ]
     },
     "execution_count": 56,
     "metadata": {},
     "output_type": "execute_result"
    }
   ],
   "source": [
    "m=re.findall(motif, mystring)\n",
    "m"
   ]
  },
  {
   "cell_type": "code",
   "execution_count": 32,
   "metadata": {},
   "outputs": [],
   "source": [
    "m=re.findall('(AAGCAGTGGTATCAACGCAGAGTAC)([ACGT]{10})([ACGT]{12})(ACG)([T]{1,21})', mystring1)"
   ]
  },
  {
   "cell_type": "code",
   "execution_count": 68,
   "metadata": {},
   "outputs": [
    {
     "data": {
      "text/plain": [
       "[]"
      ]
     },
     "execution_count": 68,
     "metadata": {},
     "output_type": "execute_result"
    }
   ],
   "source": [
    "m1=re.findall(motif, mystring2)\n",
    "m1"
   ]
  },
  {
   "cell_type": "code",
   "execution_count": 64,
   "metadata": {},
   "outputs": [],
   "source": [
    "motif = '(AAGCAGTGGTATCAACGCAGAGTAC)([ACGT]{21,23})(ACG)([T]{1,21})'"
   ]
  },
  {
   "cell_type": "code",
   "execution_count": 62,
   "metadata": {},
   "outputs": [
    {
     "data": {
      "text/plain": [
       "'((AAGCAGTGGTATCAACGCAGAGTAC){e<=1}([ACGT]{21,23})[ACGT]*)'"
      ]
     },
     "execution_count": 62,
     "metadata": {},
     "output_type": "execute_result"
    }
   ],
   "source": [
    "motif"
   ]
  },
  {
   "cell_type": "code",
   "execution_count": 50,
   "metadata": {},
   "outputs": [
    {
     "data": {
      "text/plain": [
       "'def'"
      ]
     },
     "execution_count": 50,
     "metadata": {},
     "output_type": "execute_result"
    }
   ],
   "source": [
    "m=re.findall('(AAGCAGTGGTATCAACGCAGAGTAC)([ACGT]{10})([ACGT]{12})(ACG)([T]{1,21})', mystring)"
   ]
  },
  {
   "cell_type": "code",
   "execution_count": 138,
   "metadata": {
    "collapsed": true
   },
   "outputs": [],
   "source": [
    "sequence = 'TATTGCTGATCAGTGGCCTAGCTAAAGTA'\n",
    "dynamic_param = \"CCT\"\n",
    "m = re.findall(r\"(\" + dynamic_param+ \"){s<=1}\", sequence)"
   ]
  },
  {
   "cell_type": "code",
   "execution_count": 2,
   "metadata": {
    "collapsed": true
   },
   "outputs": [],
   "source": [
    "vector = 'CGCGAACACCATCACCAAGTGACAGCGCCCTCCCGCCCCGGCCCTGCCTCAACCTTCATATTAAATAAAAATCCCTCCTTATTTTTTAAAAAAAAAAAAAAAAAACCGAAGGACCCCAATAGAACAAAAAAACAAAAAAACATCAAACAAC'"
   ]
  },
  {
   "cell_type": "code",
   "execution_count": 4,
   "metadata": {
    "collapsed": true
   },
   "outputs": [],
   "source": [
    "polyA_motif = re.compile(r'^([ACGTN]*?[CGTN])([A]{9,}[ACGNT]*$)')"
   ]
  },
  {
   "cell_type": "code",
   "execution_count": 3,
   "metadata": {
    "collapsed": true
   },
   "outputs": [],
   "source": [
    "def trim_read(read,seq_pattern):\n",
    "    match = seq_pattern.match(read)\n",
    "    if match:\n",
    "        trimmed_seq = match.group(1)\n",
    "        tail = match.group(2)\n",
    "        #print \"Trimming {polyT} from the read {read}\".format(polyT=tail,read=read)\n",
    "        return (trimmed_seq,match.start(2))\n",
    "    else:\n",
    "        return (read,0)"
   ]
  },
  {
   "cell_type": "code",
   "execution_count": 5,
   "metadata": {
    "collapsed": true
   },
   "outputs": [],
   "source": [
    "trimmed_seq,trimming_index = trim_read(vector,polyA_motif)"
   ]
  },
  {
   "cell_type": "code",
   "execution_count": 6,
   "metadata": {},
   "outputs": [
    {
     "data": {
      "text/plain": [
       "'CGCGAACACCATCACCAAGTGACAGCGCCCTCCCGCCCCGGCCCTGCCTCAACCTTCATATTAAATAAAAATCCCTCCTTATTTTTT'"
      ]
     },
     "execution_count": 6,
     "metadata": {},
     "output_type": "execute_result"
    }
   ],
   "source": [
    "trimmed_seq"
   ]
  },
  {
   "cell_type": "code",
   "execution_count": 7,
   "metadata": {},
   "outputs": [
    {
     "data": {
      "text/plain": [
       "87"
      ]
     },
     "execution_count": 7,
     "metadata": {},
     "output_type": "execute_result"
    }
   ],
   "source": [
    "trimming_index"
   ]
  },
  {
   "cell_type": "code",
   "execution_count": null,
   "metadata": {
    "collapsed": true
   },
   "outputs": [],
   "source": []
  }
 ],
 "metadata": {
  "kernelspec": {
   "display_name": "Python 3",
   "language": "python",
   "name": "python3"
  },
  "language_info": {
   "codemirror_mode": {
    "name": "ipython",
    "version": 3
   },
   "file_extension": ".py",
   "mimetype": "text/x-python",
   "name": "python",
   "nbconvert_exporter": "python",
   "pygments_lexer": "ipython3",
   "version": "3.6.1"
  }
 },
 "nbformat": 4,
 "nbformat_minor": 2
}
