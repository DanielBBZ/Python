{
 "cells": [
  {
   "cell_type": "code",
   "execution_count": 1,
   "metadata": {
    "collapsed": true
   },
   "outputs": [],
   "source": [
    "import re\n",
    "from functools import partial"
   ]
  },
  {
   "cell_type": "code",
   "execution_count": 23,
   "metadata": {
    "collapsed": true
   },
   "outputs": [],
   "source": [
    "vector = 'AAGCAGTGGTATCAACGCAGAGTAC'\n",
    "error = 1\n",
    "multiplex_len = 11"
   ]
  },
  {
   "cell_type": "code",
   "execution_count": 149,
   "metadata": {
    "collapsed": true
   },
   "outputs": [],
   "source": [
    "motif = r'((%s){s<=%i}([ACGT]{%i,%i})[ACGT]*)'%(vector,error,multiplex_len-1,multiplex_len+1)"
   ]
  },
  {
   "cell_type": "code",
   "execution_count": 151,
   "metadata": {
    "collapsed": true
   },
   "outputs": [],
   "source": [
    "motif2 ='(AAGCAGTGGTATCAACGCAGAGTAC|\\wAGCAGTGGTATCAACGCAGAGTAC|A\\wGCAGTGGTATCAACGCAGAGTAC|AA\\wCAGTGGTATCAACGCAGAGTAC|AAG\\wAGTGGTATCAACGCAGAGTAC|AAGC\\wGTGGTATCAACGCAGAGTAC|AAGCA\\wTGGTATCAACGCAGAGTAC|AAGCAG\\wGGTATCAACGCAGAGTAC|AAGCAGT\\wGTATCAACGCAGAGTAC|AAGCAGTG\\wTATCAACGCAGAGTAC|AAGCAGTGG\\wATCAACGCAGAGTAC|AAGCAGTGGT\\wTCAACGCAGAGTAC|AAGCAGTGGTA\\wCAACGCAGAGTAC|AAGCAGTGGTAT\\wAACGCAGAGTAC|AAGCAGTGGTATC\\wACGCAGAGTAC|AAGCAGTGGTATCA\\wCGCAGAGTAC|AAGCAGTGGTATCAA\\wGCAGAGTAC|AAGCAGTGGTATCAAC\\wCAGAGTAC|AAGCAGTGGTATCAACG\\wAGAGTAC|AAGCAGTGGTATCAACGC\\wGAGTAC|AAGCAGTGGTATCAACGCA\\wAGTAC|AAGCAGTGGTATCAACGCAG\\wGTAC|AAGCAGTGGTATCAACGCAGA\\wTAC|AAGCAGTGGTATCAACGCAGAG\\wAC|AAGCAGTGGTATCAACGCAGAGT\\wC|AAGCAGTGGTATCAACGCAGAGTA\\w)([ACGT]{10})([ACGT]{12})(ACG)([T]{1,21})'"
   ]
  },
  {
   "cell_type": "code",
   "execution_count": 152,
   "metadata": {
    "collapsed": true
   },
   "outputs": [],
   "source": [
    "m2=re.findall(motif2, mystring)"
   ]
  },
  {
   "cell_type": "code",
   "execution_count": 153,
   "metadata": {},
   "outputs": [
    {
     "data": {
      "text/plain": [
       "[('AAGCAGTGGTATCAACGCAGAGTAC',\n",
       "  'CCGTCTGAAC',\n",
       "  'GGCAAGGTTCGC',\n",
       "  'ACG',\n",
       "  'TTTTTTTTTTTTTTTTTTTTT')]"
      ]
     },
     "execution_count": 153,
     "metadata": {},
     "output_type": "execute_result"
    }
   ],
   "source": [
    "m2"
   ]
  },
  {
   "cell_type": "code",
   "execution_count": 25,
   "metadata": {
    "collapsed": true
   },
   "outputs": [],
   "source": [
    "mystring = 'AAGCAGTGGTATCAACGCAGAGTACCCGTCTGAACGGCAAGGTTCGCACGTTTTTTTTTTTTTTTTTTTTT'"
   ]
  },
  {
   "cell_type": "code",
   "execution_count": 127,
   "metadata": {
    "collapsed": true
   },
   "outputs": [],
   "source": [
    "m=re.findall('(AAGCAGTGGTATCAACGCAGAGTAC,{e<=1})', mystring) # means allow up to 1 error"
   ]
  },
  {
   "cell_type": "code",
   "execution_count": 144,
   "metadata": {
    "collapsed": true
   },
   "outputs": [],
   "source": [
    "m=re.findall('(AAGCAGTGGTATCAACGCAGAGTAC)([ACGT]{10})([ACGT]{12})(ACG)([T]{1,21})', mystring)"
   ]
  },
  {
   "cell_type": "code",
   "execution_count": 141,
   "metadata": {},
   "outputs": [
    {
     "data": {
      "text/plain": [
       "False"
      ]
     },
     "execution_count": 141,
     "metadata": {},
     "output_type": "execute_result"
    }
   ],
   "source": [
    "m == None"
   ]
  },
  {
   "cell_type": "code",
   "execution_count": 150,
   "metadata": {},
   "outputs": [
    {
     "data": {
      "text/plain": [
       "'((AAGCAGTGGTATCAACGCAGAGTAC){s<=1}([ACGT]{10,12})[ACGT]*)'"
      ]
     },
     "execution_count": 150,
     "metadata": {},
     "output_type": "execute_result"
    }
   ],
   "source": [
    "motif"
   ]
  },
  {
   "cell_type": "code",
   "execution_count": 50,
   "metadata": {},
   "outputs": [
    {
     "data": {
      "text/plain": [
       "'def'"
      ]
     },
     "execution_count": 50,
     "metadata": {},
     "output_type": "execute_result"
    }
   ],
   "source": [
    "m=re.findall('(AAGCAGTGGTATCAACGCAGAGTAC)([ACGT]{10})([ACGT]{12})(ACG)([T]{1,21})', mystring)"
   ]
  },
  {
   "cell_type": "code",
   "execution_count": 138,
   "metadata": {
    "collapsed": true
   },
   "outputs": [],
   "source": [
    "sequence = 'TATTGCTGATCAGTGGCCTAGCTAAAGTA'\n",
    "dynamic_param = \"CCT\"\n",
    "m = re.findall(r\"(\" + dynamic_param+ \"){s<=1}\", sequence)"
   ]
  },
  {
   "cell_type": "code",
   "execution_count": 2,
   "metadata": {},
   "outputs": [],
   "source": [
    "vector = 'CGCGAACACCATCACCAAGTGACAGCGCCCTCCCGCCCCGGCCCTGCCTCAACCTTCATATTAAATAAAAATCCCTCCTTATTTTTTAAAAAAAAAAAAAAAAAACCGAAGGACCCCAATAGAACAAAAAAACAAAAAAACATCAAACAAC'"
   ]
  },
  {
   "cell_type": "code",
   "execution_count": 4,
   "metadata": {
    "collapsed": true
   },
   "outputs": [],
   "source": [
    "polyA_motif = re.compile(r'^([ACGTN]*?[CGTN])([A]{9,}[ACGNT]*$)')"
   ]
  },
  {
   "cell_type": "code",
   "execution_count": 3,
   "metadata": {
    "collapsed": true
   },
   "outputs": [],
   "source": [
    "def trim_read(read,seq_pattern):\n",
    "    match = seq_pattern.match(read)\n",
    "    if match:\n",
    "        trimmed_seq = match.group(1)\n",
    "        tail = match.group(2)\n",
    "        #print \"Trimming {polyT} from the read {read}\".format(polyT=tail,read=read)\n",
    "        return (trimmed_seq,match.start(2))\n",
    "    else:\n",
    "        return (read,0)"
   ]
  },
  {
   "cell_type": "code",
   "execution_count": 5,
   "metadata": {},
   "outputs": [],
   "source": [
    "trimmed_seq,trimming_index = trim_read(vector,polyA_motif)"
   ]
  },
  {
   "cell_type": "code",
   "execution_count": 6,
   "metadata": {},
   "outputs": [
    {
     "data": {
      "text/plain": [
       "'CGCGAACACCATCACCAAGTGACAGCGCCCTCCCGCCCCGGCCCTGCCTCAACCTTCATATTAAATAAAAATCCCTCCTTATTTTTT'"
      ]
     },
     "execution_count": 6,
     "metadata": {},
     "output_type": "execute_result"
    }
   ],
   "source": [
    "trimmed_seq"
   ]
  },
  {
   "cell_type": "code",
   "execution_count": 7,
   "metadata": {},
   "outputs": [
    {
     "data": {
      "text/plain": [
       "87"
      ]
     },
     "execution_count": 7,
     "metadata": {},
     "output_type": "execute_result"
    }
   ],
   "source": [
    "trimming_index"
   ]
  },
  {
   "cell_type": "code",
   "execution_count": null,
   "metadata": {
    "collapsed": true
   },
   "outputs": [],
   "source": []
  }
 ],
 "metadata": {
  "kernelspec": {
   "display_name": "Python 3",
   "language": "python",
   "name": "python3"
  },
  "language_info": {
   "codemirror_mode": {
    "name": "ipython",
    "version": 3
   },
   "file_extension": ".py",
   "mimetype": "text/x-python",
   "name": "python",
   "nbconvert_exporter": "python",
   "pygments_lexer": "ipython3",
   "version": "3.6.1"
  }
 },
 "nbformat": 4,
 "nbformat_minor": 2
}
