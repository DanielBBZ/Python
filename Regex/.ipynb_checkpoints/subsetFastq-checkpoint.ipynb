{
 "cells": [
  {
   "cell_type": "code",
   "execution_count": null,
   "metadata": {
    "collapsed": true
   },
   "outputs": [],
   "source": [
    "##subset fastq file by readnames in a list"
   ]
  },
  {
   "cell_type": "code",
   "execution_count": 5,
   "metadata": {
    "collapsed": true
   },
   "outputs": [],
   "source": [
    "myfastq = 'fastq/test.fastq'\n",
    "\n",
    "mynewfastq ='fastq/new6.fastq'   #define the new fastq name\n",
    "\n",
    "listfile = 'fastq/testlist.txt'  #define the list which has readnames"
   ]
  },
  {
   "cell_type": "code",
   "execution_count": 6,
   "metadata": {
    "collapsed": true
   },
   "outputs": [],
   "source": [
    "def file_to_list(myfile):\n",
    "    '''\n",
    "    read fastq data into a list\n",
    "    '''\n",
    "    mylist = []\n",
    "    with open(myfile, \"r\") as f:\n",
    "        for line in f:\n",
    "            line = line.replace(\"\\n\", \"\")\n",
    "            mylist.append(line)\n",
    "    return mylist"
   ]
  },
  {
   "cell_type": "code",
   "execution_count": 7,
   "metadata": {
    "collapsed": true
   },
   "outputs": [],
   "source": [
    "def subset_fastq(fastq,readnamelist, newfastq):\n",
    "    '''\n",
    "    Iterate over the old fastq, filter based on read name, write into a new fastq file\n",
    "    '''\n",
    "    fastqlist = file_to_list(fastq)\n",
    "    subsetlist = file_to_list(readnamelist)\n",
    "    i=0\n",
    "    with open (newfastq, 'w') as new:\n",
    "        while i<len(fastqlist):\n",
    "            if fastqlist[i].split(\" \")[0] in subsetlist:\n",
    "                new.write(\"%s\\n\" % fastqlist[i])\n",
    "                new.write(\"%s\\n\" % fastqlist[i+1])\n",
    "                new.write(\"%s\\n\" % fastqlist[i+2])\n",
    "                new.write(\"%s\\n\" % fastqlist[i+3])\n",
    "                i+=4\n",
    "            else:\n",
    "                i+=4"
   ]
  },
  {
   "cell_type": "code",
   "execution_count": 8,
   "metadata": {},
   "outputs": [
    {
     "name": "stdout",
     "output_type": "stream",
     "text": [
      "My program took 0.02000284194946289 to run\n"
     ]
    }
   ],
   "source": [
    "import time\n",
    "start_time = time.time()\n",
    "\n",
    "subset_fastq(myfastq, listfile,mynewfastq)\n",
    "\n",
    "print(\"My program took\", time.time() - start_time, \"to run\")"
   ]
  },
  {
   "cell_type": "code",
   "execution_count": null,
   "metadata": {
    "collapsed": true
   },
   "outputs": [],
   "source": []
  },
  {
   "cell_type": "code",
   "execution_count": null,
   "metadata": {
    "collapsed": true
   },
   "outputs": [],
   "source": [
    "########my drafed section starts here#####"
   ]
  },
  {
   "cell_type": "code",
   "execution_count": 253,
   "metadata": {
    "collapsed": true
   },
   "outputs": [],
   "source": [
    "myfastqlist = read_fastq(myfastq)"
   ]
  },
  {
   "cell_type": "code",
   "execution_count": 241,
   "metadata": {
    "collapsed": true
   },
   "outputs": [],
   "source": [
    "mynewfastqlist=[]\n",
    "i=0\n",
    "while i<len(myfastqlist):\n",
    "    if myfastqlist[i].split(\" \")[0] in mylist:\n",
    "        mynewfastqlist+=myfastqlist[i:i+4]\n",
    "        i+=4\n",
    "    else:\n",
    "        i+=4"
   ]
  },
  {
   "cell_type": "code",
   "execution_count": null,
   "metadata": {
    "collapsed": true
   },
   "outputs": [],
   "source": []
  }
 ],
 "metadata": {
  "kernelspec": {
   "display_name": "Python 3",
   "language": "python",
   "name": "python3"
  },
  "language_info": {
   "codemirror_mode": {
    "name": "ipython",
    "version": 3
   },
   "file_extension": ".py",
   "mimetype": "text/x-python",
   "name": "python",
   "nbconvert_exporter": "python",
   "pygments_lexer": "ipython3",
   "version": "3.6.1"
  }
 },
 "nbformat": 4,
 "nbformat_minor": 2
}
