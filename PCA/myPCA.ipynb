{
 "cells": [
  {
   "cell_type": "code",
   "execution_count": 1,
   "metadata": {},
   "outputs": [
    {
     "data": {
      "text/html": [
       "<div>\n",
       "<style scoped>\n",
       "    .dataframe tbody tr th:only-of-type {\n",
       "        vertical-align: middle;\n",
       "    }\n",
       "\n",
       "    .dataframe tbody tr th {\n",
       "        vertical-align: top;\n",
       "    }\n",
       "\n",
       "    .dataframe thead th {\n",
       "        text-align: right;\n",
       "    }\n",
       "</style>\n",
       "<table border=\"1\" class=\"dataframe\">\n",
       "  <thead>\n",
       "    <tr style=\"text-align: right;\">\n",
       "      <th></th>\n",
       "      <th>probe set id</th>\n",
       "      <th>sample1</th>\n",
       "      <th>sample2</th>\n",
       "      <th>sample3</th>\n",
       "      <th>sample4</th>\n",
       "      <th>sample5</th>\n",
       "      <th>sample6</th>\n",
       "      <th>sample7</th>\n",
       "      <th>sample8</th>\n",
       "      <th>sample9</th>\n",
       "      <th>...</th>\n",
       "      <th>sample14</th>\n",
       "      <th>sample15</th>\n",
       "      <th>sample16</th>\n",
       "      <th>sample17</th>\n",
       "      <th>sample18</th>\n",
       "      <th>sample19</th>\n",
       "      <th>sample20</th>\n",
       "      <th>sample21</th>\n",
       "      <th>sample22</th>\n",
       "      <th>sample23</th>\n",
       "    </tr>\n",
       "  </thead>\n",
       "  <tbody>\n",
       "    <tr>\n",
       "      <th>0</th>\n",
       "      <td>Probe1</td>\n",
       "      <td>10.763</td>\n",
       "      <td>10.637</td>\n",
       "      <td>11.018</td>\n",
       "      <td>10.932</td>\n",
       "      <td>10.898</td>\n",
       "      <td>10.795</td>\n",
       "      <td>10.834</td>\n",
       "      <td>10.870</td>\n",
       "      <td>10.863</td>\n",
       "      <td>...</td>\n",
       "      <td>11.100</td>\n",
       "      <td>10.840</td>\n",
       "      <td>11.205</td>\n",
       "      <td>10.997</td>\n",
       "      <td>10.939</td>\n",
       "      <td>10.917</td>\n",
       "      <td>10.937</td>\n",
       "      <td>10.978</td>\n",
       "      <td>10.844</td>\n",
       "      <td>10.748</td>\n",
       "    </tr>\n",
       "    <tr>\n",
       "      <th>1</th>\n",
       "      <td>Probe2</td>\n",
       "      <td>10.613</td>\n",
       "      <td>10.507</td>\n",
       "      <td>10.660</td>\n",
       "      <td>10.600</td>\n",
       "      <td>10.593</td>\n",
       "      <td>10.492</td>\n",
       "      <td>10.555</td>\n",
       "      <td>10.567</td>\n",
       "      <td>10.598</td>\n",
       "      <td>...</td>\n",
       "      <td>10.917</td>\n",
       "      <td>10.875</td>\n",
       "      <td>10.817</td>\n",
       "      <td>10.840</td>\n",
       "      <td>10.801</td>\n",
       "      <td>10.607</td>\n",
       "      <td>10.786</td>\n",
       "      <td>10.806</td>\n",
       "      <td>10.802</td>\n",
       "      <td>10.613</td>\n",
       "    </tr>\n",
       "    <tr>\n",
       "      <th>2</th>\n",
       "      <td>Probe3</td>\n",
       "      <td>10.896</td>\n",
       "      <td>10.762</td>\n",
       "      <td>11.034</td>\n",
       "      <td>10.854</td>\n",
       "      <td>10.917</td>\n",
       "      <td>10.809</td>\n",
       "      <td>10.885</td>\n",
       "      <td>10.840</td>\n",
       "      <td>10.854</td>\n",
       "      <td>...</td>\n",
       "      <td>11.235</td>\n",
       "      <td>11.210</td>\n",
       "      <td>11.431</td>\n",
       "      <td>11.156</td>\n",
       "      <td>11.253</td>\n",
       "      <td>11.058</td>\n",
       "      <td>11.219</td>\n",
       "      <td>11.074</td>\n",
       "      <td>11.098</td>\n",
       "      <td>11.051</td>\n",
       "    </tr>\n",
       "    <tr>\n",
       "      <th>3</th>\n",
       "      <td>Probe4</td>\n",
       "      <td>11.934</td>\n",
       "      <td>11.509</td>\n",
       "      <td>12.037</td>\n",
       "      <td>11.906</td>\n",
       "      <td>11.975</td>\n",
       "      <td>11.728</td>\n",
       "      <td>11.992</td>\n",
       "      <td>11.909</td>\n",
       "      <td>11.929</td>\n",
       "      <td>...</td>\n",
       "      <td>12.749</td>\n",
       "      <td>12.652</td>\n",
       "      <td>12.794</td>\n",
       "      <td>12.659</td>\n",
       "      <td>12.651</td>\n",
       "      <td>12.700</td>\n",
       "      <td>12.841</td>\n",
       "      <td>12.548</td>\n",
       "      <td>12.667</td>\n",
       "      <td>12.664</td>\n",
       "    </tr>\n",
       "    <tr>\n",
       "      <th>4</th>\n",
       "      <td>Probe5</td>\n",
       "      <td>12.362</td>\n",
       "      <td>12.203</td>\n",
       "      <td>12.471</td>\n",
       "      <td>12.400</td>\n",
       "      <td>12.312</td>\n",
       "      <td>12.275</td>\n",
       "      <td>12.293</td>\n",
       "      <td>12.476</td>\n",
       "      <td>12.314</td>\n",
       "      <td>...</td>\n",
       "      <td>12.660</td>\n",
       "      <td>12.562</td>\n",
       "      <td>12.819</td>\n",
       "      <td>12.655</td>\n",
       "      <td>12.611</td>\n",
       "      <td>12.598</td>\n",
       "      <td>12.649</td>\n",
       "      <td>12.631</td>\n",
       "      <td>12.600</td>\n",
       "      <td>12.490</td>\n",
       "    </tr>\n",
       "  </tbody>\n",
       "</table>\n",
       "<p>5 rows × 24 columns</p>\n",
       "</div>"
      ],
      "text/plain": [
       "  probe set id  sample1  sample2  sample3  sample4  sample5  sample6  sample7  \\\n",
       "0       Probe1   10.763   10.637   11.018   10.932   10.898   10.795   10.834   \n",
       "1       Probe2   10.613   10.507   10.660   10.600   10.593   10.492   10.555   \n",
       "2       Probe3   10.896   10.762   11.034   10.854   10.917   10.809   10.885   \n",
       "3       Probe4   11.934   11.509   12.037   11.906   11.975   11.728   11.992   \n",
       "4       Probe5   12.362   12.203   12.471   12.400   12.312   12.275   12.293   \n",
       "\n",
       "   sample8  sample9    ...     sample14  sample15  sample16  sample17  \\\n",
       "0   10.870   10.863    ...       11.100    10.840    11.205    10.997   \n",
       "1   10.567   10.598    ...       10.917    10.875    10.817    10.840   \n",
       "2   10.840   10.854    ...       11.235    11.210    11.431    11.156   \n",
       "3   11.909   11.929    ...       12.749    12.652    12.794    12.659   \n",
       "4   12.476   12.314    ...       12.660    12.562    12.819    12.655   \n",
       "\n",
       "   sample18  sample19  sample20  sample21  sample22  sample23  \n",
       "0    10.939    10.917    10.937    10.978    10.844    10.748  \n",
       "1    10.801    10.607    10.786    10.806    10.802    10.613  \n",
       "2    11.253    11.058    11.219    11.074    11.098    11.051  \n",
       "3    12.651    12.700    12.841    12.548    12.667    12.664  \n",
       "4    12.611    12.598    12.649    12.631    12.600    12.490  \n",
       "\n",
       "[5 rows x 24 columns]"
      ]
     },
     "execution_count": 1,
     "metadata": {},
     "output_type": "execute_result"
    }
   ],
   "source": [
    "import pandas as pd\n",
    "\n",
    "df =pd.read_csv('data.txt', delimiter=\"\\t\")\n",
    "des = pd.read_csv('design.txt', delimiter=\"\\t\")\n",
    "\n",
    "df.head()\n",
    "#df.tail()\n",
    "#des.head()"
   ]
  },
  {
   "cell_type": "code",
   "execution_count": 14,
   "metadata": {},
   "outputs": [],
   "source": [
    "# split data table into data X and class labels y\n",
    "\n",
    "X = df.iloc[:,1:24].T.values\n",
    "y = des.iloc[:,1].values"
   ]
  },
  {
   "cell_type": "code",
   "execution_count": 4,
   "metadata": {},
   "outputs": [
    {
     "data": {
      "text/plain": [
       "(23, 31099)"
      ]
     },
     "execution_count": 4,
     "metadata": {},
     "output_type": "execute_result"
    }
   ],
   "source": [
    "X.shape"
   ]
  },
  {
   "cell_type": "code",
   "execution_count": 7,
   "metadata": {},
   "outputs": [
    {
     "data": {
      "text/plain": [
       "array(['C', 'C', 'C', 'C', 'C', 'C', 'D', 'D', 'D', 'D', 'D', 'D', 'C',\n",
       "       'C', 'C', 'C', 'C', 'C', 'D', 'D', 'D', 'D', 'D'], dtype=object)"
      ]
     },
     "execution_count": 7,
     "metadata": {},
     "output_type": "execute_result"
    }
   ],
   "source": [
    "y"
   ]
  },
  {
   "cell_type": "code",
   "execution_count": 8,
   "metadata": {},
   "outputs": [
    {
     "data": {
      "text/plain": [
       "array([[ 10.763,  10.613,  10.896, ...,   4.512,   5.213,   4.781],\n",
       "       [ 10.637,  10.507,  10.762, ...,   4.56 ,   5.284,   4.751],\n",
       "       [ 11.018,  10.66 ,  11.034, ...,   4.455,   5.195,   4.769],\n",
       "       ..., \n",
       "       [ 10.978,  10.806,  11.074, ...,   4.507,   5.284,   4.741],\n",
       "       [ 10.844,  10.802,  11.098, ...,   4.487,   5.177,   4.732],\n",
       "       [ 10.748,  10.613,  11.051, ...,   4.482,   5.242,   4.79 ]])"
      ]
     },
     "execution_count": 8,
     "metadata": {},
     "output_type": "execute_result"
    }
   ],
   "source": [
    "X"
   ]
  },
  {
   "cell_type": "code",
   "execution_count": 9,
   "metadata": {
    "collapsed": true
   },
   "outputs": [],
   "source": [
    "import plotly.plotly as py\n",
    "from plotly.graph_objs import *\n",
    "import plotly.tools as tls"
   ]
  },
  {
   "cell_type": "code",
   "execution_count": 10,
   "metadata": {
    "collapsed": true
   },
   "outputs": [],
   "source": [
    "from sklearn.decomposition import PCA as sklearnPCA\n",
    "sklearn_pca = sklearnPCA(n_components=3)\n",
    "Y_sklearn = sklearn_pca.fit_transform(X)"
   ]
  },
  {
   "cell_type": "code",
   "execution_count": 15,
   "metadata": {},
   "outputs": [
    {
     "data": {
      "text/html": [
       "<iframe id=\"igraph\" scrolling=\"no\" style=\"border:none;\" seamless=\"seamless\" src=\"https://plot.ly/~walden360/22.embed\" height=\"525px\" width=\"100%\"></iframe>"
      ],
      "text/plain": [
       "<plotly.tools.PlotlyDisplay object>"
      ]
     },
     "execution_count": 15,
     "metadata": {},
     "output_type": "execute_result"
    }
   ],
   "source": [
    "traces = []\n",
    "\n",
    "for name in ('A', 'B'):\n",
    "\n",
    "    trace = Scatter(\n",
    "        x=Y_sklearn[y==name,0],\n",
    "        y=Y_sklearn[y==name,1],\n",
    "        mode='markers',\n",
    "        name=name,\n",
    "        marker=Marker(\n",
    "            size=12,\n",
    "            line=Line(\n",
    "                color='rgba(217, 217, 217, 0.14)',\n",
    "                width=0.5),\n",
    "            opacity=0.8))\n",
    "    traces.append(trace)\n",
    "\n",
    "\n",
    "data = Data(traces)\n",
    "layout = Layout(xaxis=XAxis(title='PC1', showline=False),\n",
    "                yaxis=YAxis(title='PC2', showline=False))\n",
    "fig = Figure(data=data, layout=layout)\n",
    "py.iplot(fig)"
   ]
  },
  {
   "cell_type": "code",
   "execution_count": 13,
   "metadata": {},
   "outputs": [
    {
     "data": {
      "text/plain": [
       "[{'marker': {'line': {'color': 'rgba(217, 217, 217, 0.14)', 'width': 0.5},\n",
       "   'opacity': 0.8,\n",
       "   'size': 9},\n",
       "  'mode': 'markers',\n",
       "  'name': 'C',\n",
       "  'type': 'scatter3d',\n",
       "  'x': array([-29.41545599, -39.82444695, -18.24447475, -26.51596877,\n",
       "         -25.89002788, -30.58495621,  16.21175583,  34.61539396,\n",
       "          25.8368721 ,  53.0007735 ,  20.03308295,  29.62632132]),\n",
       "  'y': array([-11.78974931,  -8.46266514, -21.62397415, -16.43632767,\n",
       "         -12.20549945, -10.78504886, -20.35009631, -17.97755317,\n",
       "         -19.80941781, -14.82453504, -11.32578608, -13.08635215]),\n",
       "  'z': array([ -5.47424127, -24.74819362,  11.85928816,  -2.37096873,\n",
       "          -2.69672741,  -7.90397644,  12.20423688,   0.95560683,\n",
       "           0.71080851,  -3.71415478,  -4.04994434,  -7.30399728])},\n",
       " {'marker': {'line': {'color': 'rgba(217, 217, 217, 0.14)', 'width': 0.5},\n",
       "   'opacity': 0.8,\n",
       "   'size': 9},\n",
       "  'mode': 'markers',\n",
       "  'name': 'D',\n",
       "  'type': 'scatter3d',\n",
       "  'x': array([-16.99805804, -19.48643746, -22.86505096, -23.08164334,\n",
       "         -10.39911567, -25.01600036,  23.59375508,  22.85094226,\n",
       "          18.97815228,  25.0407415 ,  18.53384561]),\n",
       "  'y': array([ 11.51319207,  11.28277651,  11.12070296,  16.94914618,\n",
       "           9.06008116,  14.8382273 ,  18.2672954 ,  16.08405878,\n",
       "          25.315526  ,  20.24669498,  23.9993038 ]),\n",
       "  'z': array([ 10.87322824,   7.99236143,   5.77461432,   0.21873361,\n",
       "          23.42350026,   2.2323027 ,  -4.98849237,  26.39075822,\n",
       "         -19.1994892 ,  -4.51662561, -15.66862811])}]"
      ]
     },
     "execution_count": 13,
     "metadata": {},
     "output_type": "execute_result"
    }
   ],
   "source": [
    "traces"
   ]
  },
  {
   "cell_type": "code",
   "execution_count": 18,
   "metadata": {},
   "outputs": [
    {
     "data": {
      "text/plain": [
       "array([[-29.41545599, -11.78974931,  -5.47424127],\n",
       "       [-39.82444695,  -8.46266514, -24.74819362],\n",
       "       [-18.24447475, -21.62397415,  11.85928816],\n",
       "       [-26.51596877, -16.43632767,  -2.37096873],\n",
       "       [-25.89002788, -12.20549945,  -2.69672741],\n",
       "       [-30.58495621, -10.78504886,  -7.90397644],\n",
       "       [-16.99805804,  11.51319207,  10.87322824],\n",
       "       [-19.48643746,  11.28277651,   7.99236143],\n",
       "       [-22.86505096,  11.12070296,   5.77461432],\n",
       "       [-23.08164334,  16.94914618,   0.21873361],\n",
       "       [-10.39911567,   9.06008116,  23.42350026],\n",
       "       [-25.01600036,  14.8382273 ,   2.2323027 ],\n",
       "       [ 16.21175583, -20.35009631,  12.20423688],\n",
       "       [ 34.61539396, -17.97755317,   0.95560683],\n",
       "       [ 25.8368721 , -19.80941781,   0.71080851],\n",
       "       [ 53.0007735 , -14.82453504,  -3.71415478],\n",
       "       [ 20.03308295, -11.32578608,  -4.04994434],\n",
       "       [ 29.62632132, -13.08635215,  -7.30399728],\n",
       "       [ 23.59375508,  18.2672954 ,  -4.98849237],\n",
       "       [ 22.85094226,  16.08405878,  26.39075822],\n",
       "       [ 18.97815228,  25.315526  , -19.1994892 ],\n",
       "       [ 25.0407415 ,  20.24669498,  -4.51662561],\n",
       "       [ 18.53384561,  23.9993038 , -15.66862811]])"
      ]
     },
     "execution_count": 18,
     "metadata": {},
     "output_type": "execute_result"
    }
   ],
   "source": [
    "Y_sklearn"
   ]
  },
  {
   "cell_type": "code",
   "execution_count": 16,
   "metadata": {},
   "outputs": [
    {
     "data": {
      "text/html": [
       "<iframe id=\"igraph\" scrolling=\"no\" style=\"border:none;\" seamless=\"seamless\" src=\"https://plot.ly/~walden360/24.embed\" height=\"525px\" width=\"100%\"></iframe>"
      ],
      "text/plain": [
       "<plotly.tools.PlotlyDisplay object>"
      ]
     },
     "execution_count": 16,
     "metadata": {},
     "output_type": "execute_result"
    }
   ],
   "source": [
    "traces = []\n",
    "\n",
    "for name in ('A', 'B'):\n",
    "\n",
    "    trace = Scatter3d(\n",
    "        x=Y_sklearn[y==name,0],\n",
    "        y=Y_sklearn[y==name,1],\n",
    "        z=Y_sklearn[y==name,2],\n",
    "        mode='markers',\n",
    "        name=name,\n",
    "        marker=Marker(\n",
    "            size=9,\n",
    "            line=Line(\n",
    "                color='rgba(217, 217, 217, 0.14)',\n",
    "                width=0.5),\n",
    "            opacity=0.8))\n",
    "    traces.append(trace)\n",
    "\n",
    "\n",
    "data = Data(traces)\n",
    "layout = Layout(\n",
    "    margin=dict(l=0,r=0,b=0,t=0),\n",
    "    scene=Scene(xaxis=XAxis(title='PC1', showline=False),\n",
    "    yaxis=YAxis(title='PC2', showline=False),\n",
    "    zaxis=ZAxis(title='PC3', showline=False)))\n",
    "fig = Figure(data=data, layout=layout)\n",
    "py.iplot(fig)"
   ]
  },
  {
   "cell_type": "code",
   "execution_count": null,
   "metadata": {},
   "outputs": [],
   "source": []
  },
  {
   "cell_type": "code",
   "execution_count": null,
   "metadata": {
    "collapsed": true
   },
   "outputs": [],
   "source": []
  }
 ],
 "metadata": {
  "kernelspec": {
   "display_name": "Python 3",
   "language": "python",
   "name": "python3"
  },
  "language_info": {
   "codemirror_mode": {
    "name": "ipython",
    "version": 3
   },
   "file_extension": ".py",
   "mimetype": "text/x-python",
   "name": "python",
   "nbconvert_exporter": "python",
   "pygments_lexer": "ipython3",
   "version": "3.6.1"
  }
 },
 "nbformat": 4,
 "nbformat_minor": 2
}
