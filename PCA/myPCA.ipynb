{
 "cells": [
  {
   "cell_type": "code",
   "execution_count": 27,
   "metadata": {},
   "outputs": [
    {
     "data": {
      "text/html": [
       "<div>\n",
       "<style scoped>\n",
       "    .dataframe tbody tr th:only-of-type {\n",
       "        vertical-align: middle;\n",
       "    }\n",
       "\n",
       "    .dataframe tbody tr th {\n",
       "        vertical-align: top;\n",
       "    }\n",
       "\n",
       "    .dataframe thead th {\n",
       "        text-align: right;\n",
       "    }\n",
       "</style>\n",
       "<table border=\"1\" class=\"dataframe\">\n",
       "  <thead>\n",
       "    <tr style=\"text-align: right;\">\n",
       "      <th></th>\n",
       "      <th>Probe Set ID</th>\n",
       "      <th>LL0322071101</th>\n",
       "      <th>LL0322071102</th>\n",
       "      <th>LL0322071103</th>\n",
       "      <th>LL0322071104</th>\n",
       "      <th>LL0322071105</th>\n",
       "      <th>LL0322071106</th>\n",
       "      <th>LL0322072101</th>\n",
       "      <th>LL0322072102</th>\n",
       "      <th>LL0322072103</th>\n",
       "      <th>...</th>\n",
       "      <th>LL0322075102</th>\n",
       "      <th>LL0322075103</th>\n",
       "      <th>LL0322075104</th>\n",
       "      <th>LL0322075105</th>\n",
       "      <th>LL0322075106</th>\n",
       "      <th>LL0322076101</th>\n",
       "      <th>LL0322076102</th>\n",
       "      <th>LL0322076103</th>\n",
       "      <th>LL0322076105</th>\n",
       "      <th>LL0322076106</th>\n",
       "    </tr>\n",
       "  </thead>\n",
       "  <tbody>\n",
       "    <tr>\n",
       "      <th>0</th>\n",
       "      <td>1367709_at</td>\n",
       "      <td>9.893</td>\n",
       "      <td>9.565</td>\n",
       "      <td>9.441</td>\n",
       "      <td>10.307</td>\n",
       "      <td>9.645</td>\n",
       "      <td>9.534</td>\n",
       "      <td>10.772</td>\n",
       "      <td>10.964</td>\n",
       "      <td>10.475</td>\n",
       "      <td>...</td>\n",
       "      <td>10.518</td>\n",
       "      <td>9.617</td>\n",
       "      <td>10.481</td>\n",
       "      <td>10.467</td>\n",
       "      <td>9.837</td>\n",
       "      <td>10.962</td>\n",
       "      <td>11.155</td>\n",
       "      <td>11.234</td>\n",
       "      <td>10.924</td>\n",
       "      <td>10.929</td>\n",
       "    </tr>\n",
       "    <tr>\n",
       "      <th>1</th>\n",
       "      <td>1367811_at</td>\n",
       "      <td>7.215</td>\n",
       "      <td>7.118</td>\n",
       "      <td>7.186</td>\n",
       "      <td>7.260</td>\n",
       "      <td>7.275</td>\n",
       "      <td>7.096</td>\n",
       "      <td>7.863</td>\n",
       "      <td>7.868</td>\n",
       "      <td>7.720</td>\n",
       "      <td>...</td>\n",
       "      <td>8.357</td>\n",
       "      <td>7.590</td>\n",
       "      <td>9.125</td>\n",
       "      <td>7.468</td>\n",
       "      <td>8.139</td>\n",
       "      <td>9.183</td>\n",
       "      <td>9.018</td>\n",
       "      <td>10.457</td>\n",
       "      <td>10.296</td>\n",
       "      <td>8.743</td>\n",
       "    </tr>\n",
       "    <tr>\n",
       "      <th>2</th>\n",
       "      <td>1367939_at</td>\n",
       "      <td>11.326</td>\n",
       "      <td>11.022</td>\n",
       "      <td>11.895</td>\n",
       "      <td>11.671</td>\n",
       "      <td>11.631</td>\n",
       "      <td>11.492</td>\n",
       "      <td>10.614</td>\n",
       "      <td>10.327</td>\n",
       "      <td>10.576</td>\n",
       "      <td>...</td>\n",
       "      <td>11.677</td>\n",
       "      <td>11.704</td>\n",
       "      <td>11.203</td>\n",
       "      <td>11.657</td>\n",
       "      <td>11.553</td>\n",
       "      <td>10.507</td>\n",
       "      <td>11.151</td>\n",
       "      <td>10.397</td>\n",
       "      <td>10.431</td>\n",
       "      <td>10.240</td>\n",
       "    </tr>\n",
       "    <tr>\n",
       "      <th>3</th>\n",
       "      <td>1368121_at</td>\n",
       "      <td>10.498</td>\n",
       "      <td>9.859</td>\n",
       "      <td>10.591</td>\n",
       "      <td>10.434</td>\n",
       "      <td>10.720</td>\n",
       "      <td>10.153</td>\n",
       "      <td>12.797</td>\n",
       "      <td>12.269</td>\n",
       "      <td>12.545</td>\n",
       "      <td>...</td>\n",
       "      <td>12.841</td>\n",
       "      <td>12.008</td>\n",
       "      <td>13.558</td>\n",
       "      <td>12.409</td>\n",
       "      <td>12.597</td>\n",
       "      <td>12.905</td>\n",
       "      <td>12.576</td>\n",
       "      <td>13.697</td>\n",
       "      <td>13.327</td>\n",
       "      <td>12.843</td>\n",
       "    </tr>\n",
       "    <tr>\n",
       "      <th>4</th>\n",
       "      <td>1368160_at</td>\n",
       "      <td>9.895</td>\n",
       "      <td>10.774</td>\n",
       "      <td>11.651</td>\n",
       "      <td>11.180</td>\n",
       "      <td>12.102</td>\n",
       "      <td>12.569</td>\n",
       "      <td>12.351</td>\n",
       "      <td>11.921</td>\n",
       "      <td>12.062</td>\n",
       "      <td>...</td>\n",
       "      <td>12.134</td>\n",
       "      <td>11.231</td>\n",
       "      <td>12.021</td>\n",
       "      <td>11.077</td>\n",
       "      <td>11.806</td>\n",
       "      <td>13.516</td>\n",
       "      <td>12.762</td>\n",
       "      <td>12.210</td>\n",
       "      <td>11.861</td>\n",
       "      <td>13.439</td>\n",
       "    </tr>\n",
       "  </tbody>\n",
       "</table>\n",
       "<p>5 rows × 24 columns</p>\n",
       "</div>"
      ],
      "text/plain": [
       "  Probe Set ID  LL0322071101  LL0322071102  LL0322071103  LL0322071104  \\\n",
       "0   1367709_at         9.893         9.565         9.441        10.307   \n",
       "1   1367811_at         7.215         7.118         7.186         7.260   \n",
       "2   1367939_at        11.326        11.022        11.895        11.671   \n",
       "3   1368121_at        10.498         9.859        10.591        10.434   \n",
       "4   1368160_at         9.895        10.774        11.651        11.180   \n",
       "\n",
       "   LL0322071105  LL0322071106  LL0322072101  LL0322072102  LL0322072103  \\\n",
       "0         9.645         9.534        10.772        10.964        10.475   \n",
       "1         7.275         7.096         7.863         7.868         7.720   \n",
       "2        11.631        11.492        10.614        10.327        10.576   \n",
       "3        10.720        10.153        12.797        12.269        12.545   \n",
       "4        12.102        12.569        12.351        11.921        12.062   \n",
       "\n",
       "       ...       LL0322075102  LL0322075103  LL0322075104  LL0322075105  \\\n",
       "0      ...             10.518         9.617        10.481        10.467   \n",
       "1      ...              8.357         7.590         9.125         7.468   \n",
       "2      ...             11.677        11.704        11.203        11.657   \n",
       "3      ...             12.841        12.008        13.558        12.409   \n",
       "4      ...             12.134        11.231        12.021        11.077   \n",
       "\n",
       "   LL0322075106  LL0322076101  LL0322076102  LL0322076103  LL0322076105  \\\n",
       "0         9.837        10.962        11.155        11.234        10.924   \n",
       "1         8.139         9.183         9.018        10.457        10.296   \n",
       "2        11.553        10.507        11.151        10.397        10.431   \n",
       "3        12.597        12.905        12.576        13.697        13.327   \n",
       "4        11.806        13.516        12.762        12.210        11.861   \n",
       "\n",
       "   LL0322076106  \n",
       "0        10.929  \n",
       "1         8.743  \n",
       "2        10.240  \n",
       "3        12.843  \n",
       "4        13.439  \n",
       "\n",
       "[5 rows x 24 columns]"
      ]
     },
     "execution_count": 27,
     "metadata": {},
     "output_type": "execute_result"
    }
   ],
   "source": [
    "import pandas as pd\n",
    "\n",
    "df =pd.read_csv('data.txt', delimiter=\"\\t\")\n",
    "des = pd.read_csv('design.txt', delimiter=\"\\t\")\n",
    "\n",
    "df.head()\n",
    "#df.tail()\n",
    "#des.head()"
   ]
  },
  {
   "cell_type": "code",
   "execution_count": 36,
   "metadata": {},
   "outputs": [],
   "source": [
    "# split data table into data X and class labels y\n",
    "\n",
    "X = df.iloc[:,1:24].T.values\n",
    "y = des.iloc[:,5].values"
   ]
  },
  {
   "cell_type": "code",
   "execution_count": 37,
   "metadata": {},
   "outputs": [
    {
     "data": {
      "text/plain": [
       "(23, 120)"
      ]
     },
     "execution_count": 37,
     "metadata": {},
     "output_type": "execute_result"
    }
   ],
   "source": [
    "X.shape"
   ]
  },
  {
   "cell_type": "code",
   "execution_count": 38,
   "metadata": {},
   "outputs": [
    {
     "data": {
      "text/plain": [
       "array([[  9.893,   7.215,  11.326, ...,   7.488,   9.065,   6.863],\n",
       "       [  9.565,   7.118,  11.022, ...,   7.481,   9.097,   7.395],\n",
       "       [  9.441,   7.186,  11.895, ...,   7.475,   9.522,   7.071],\n",
       "       ..., \n",
       "       [ 11.234,  10.457,  10.397, ...,   7.982,   6.935,   6.474],\n",
       "       [ 10.924,  10.296,  10.431, ...,   8.266,   7.488,   6.095],\n",
       "       [ 10.929,   8.743,  10.24 , ...,   8.33 ,   7.499,   6.429]])"
      ]
     },
     "execution_count": 38,
     "metadata": {},
     "output_type": "execute_result"
    }
   ],
   "source": [
    "X"
   ]
  },
  {
   "cell_type": "code",
   "execution_count": 19,
   "metadata": {},
   "outputs": [],
   "source": [
    "import plotly.plotly as py\n",
    "from plotly.graph_objs import *\n",
    "import plotly.tools as tls"
   ]
  },
  {
   "cell_type": "code",
   "execution_count": 39,
   "metadata": {
    "collapsed": true
   },
   "outputs": [],
   "source": [
    "from sklearn.decomposition import PCA as sklearnPCA\n",
    "sklearn_pca = sklearnPCA(n_components=3)\n",
    "Y_sklearn = sklearn_pca.fit_transform(X)"
   ]
  },
  {
   "cell_type": "code",
   "execution_count": 46,
   "metadata": {},
   "outputs": [
    {
     "data": {
      "text/html": [
       "<iframe id=\"igraph\" scrolling=\"no\" style=\"border:none;\" seamless=\"seamless\" src=\"https://plot.ly/~walden360/6.embed\" height=\"525px\" width=\"100%\"></iframe>"
      ],
      "text/plain": [
       "<plotly.tools.PlotlyDisplay object>"
      ]
     },
     "execution_count": 46,
     "metadata": {},
     "output_type": "execute_result"
    }
   ],
   "source": [
    "traces = []\n",
    "\n",
    "for name in ('Wistar', 'TR'):\n",
    "\n",
    "    trace = Scatter(\n",
    "        x=Y_sklearn[y==name,0],\n",
    "        y=Y_sklearn[y==name,1],\n",
    "        mode='markers',\n",
    "        name=name,\n",
    "        marker=Marker(\n",
    "            size=12,\n",
    "            line=Line(\n",
    "                color='rgba(217, 217, 217, 0.14)',\n",
    "                width=0.5),\n",
    "            opacity=0.8))\n",
    "    traces.append(trace)\n",
    "\n",
    "\n",
    "data = Data(traces)\n",
    "layout = Layout(xaxis=XAxis(title='PC1', showline=False),\n",
    "                yaxis=YAxis(title='PC2', showline=False))\n",
    "fig = Figure(data=data, layout=layout)\n",
    "py.iplot(fig)"
   ]
  },
  {
   "cell_type": "code",
   "execution_count": 41,
   "metadata": {},
   "outputs": [
    {
     "data": {
      "text/plain": [
       "[{'marker': {'line': {'color': 'rgba(217, 217, 217, 0.14)', 'width': 0.5},\n",
       "   'opacity': 0.8,\n",
       "   'size': 12},\n",
       "  'mode': 'markers',\n",
       "  'name': 'Wistar',\n",
       "  'type': 'scatter',\n",
       "  'x': array([  7.46283077,   8.10321027,  10.74681857,  11.24754657,\n",
       "           7.09727495,   8.71259798,   9.70769403,  10.27605922,\n",
       "          10.961535  ,   9.78269245,  10.53246403,   8.93901046]),\n",
       "  'y': array([-6.43602473, -4.69693654, -6.30313193, -5.53562369, -6.10400131,\n",
       "         -5.96199554,  1.54895872,  7.44780917,  5.45007675,  9.80106335,\n",
       "          4.32869086,  4.42192104])},\n",
       " {'marker': {'line': {'color': 'rgba(217, 217, 217, 0.14)', 'width': 0.5},\n",
       "   'opacity': 0.8,\n",
       "   'size': 12},\n",
       "  'mode': 'markers',\n",
       "  'name': 'TR',\n",
       "  'type': 'scatter',\n",
       "  'x': array([-10.4643127 , -10.39867147,  -9.70152758,  -9.84566327,\n",
       "         -10.94865647, -10.14863354, -10.76078628, -10.92249085,\n",
       "          -9.70663084,  -9.73502468, -10.93733664]),\n",
       "  'y': array([-2.66025676, -1.99478147, -2.60152179, -2.79779677, -3.04612308,\n",
       "         -2.85598886,  3.61410075,  1.20505264,  5.02663466,  4.430821  ,\n",
       "          3.71905355])}]"
      ]
     },
     "execution_count": 41,
     "metadata": {},
     "output_type": "execute_result"
    }
   ],
   "source": [
    "traces"
   ]
  },
  {
   "cell_type": "code",
   "execution_count": 42,
   "metadata": {},
   "outputs": [
    {
     "data": {
      "text/plain": [
       "array([[  7.46283077,  -6.43602473,   4.43401298],\n",
       "       [  8.10321027,  -4.69693654,   3.3402361 ],\n",
       "       [ 10.74681857,  -6.30313193,  -0.43966133],\n",
       "       [ 11.24754657,  -5.53562369,  -0.41993764],\n",
       "       [  7.09727495,  -6.10400131,   3.00060042],\n",
       "       [  8.71259798,  -5.96199554,  -0.91883201],\n",
       "       [-10.4643127 ,  -2.66025676,  -2.65138344],\n",
       "       [-10.39867147,  -1.99478147,  -2.19636731],\n",
       "       [ -9.70152758,  -2.60152179,  -2.40326986],\n",
       "       [ -9.84566327,  -2.79779677,  -2.3509166 ],\n",
       "       [-10.94865647,  -3.04612308,  -3.69773561],\n",
       "       [-10.14863354,  -2.85598886,  -3.02139537],\n",
       "       [  9.70769403,   1.54895872,   0.90222736],\n",
       "       [ 10.27605922,   7.44780917,  -3.06368045],\n",
       "       [ 10.961535  ,   5.45007675,  -2.36988517],\n",
       "       [  9.78269245,   9.80106335,  -1.37312575],\n",
       "       [ 10.53246403,   4.32869086,  -2.41778412],\n",
       "       [  8.93901046,   4.42192104,   0.80956529],\n",
       "       [-10.76078628,   3.61410075,   2.85075024],\n",
       "       [-10.92249085,   1.20505264,   0.37212421],\n",
       "       [ -9.70663084,   5.02663466,   4.59393011],\n",
       "       [ -9.73502468,   4.430821  ,   3.56621488],\n",
       "       [-10.93733664,   3.71905355,   3.45431308]])"
      ]
     },
     "execution_count": 42,
     "metadata": {},
     "output_type": "execute_result"
    }
   ],
   "source": [
    "Y_sklearn"
   ]
  },
  {
   "cell_type": "code",
   "execution_count": 55,
   "metadata": {},
   "outputs": [
    {
     "data": {
      "text/html": [
       "<iframe id=\"igraph\" scrolling=\"no\" style=\"border:none;\" seamless=\"seamless\" src=\"https://plot.ly/~walden360/14.embed\" height=\"525px\" width=\"100%\"></iframe>"
      ],
      "text/plain": [
       "<plotly.tools.PlotlyDisplay object>"
      ]
     },
     "execution_count": 55,
     "metadata": {},
     "output_type": "execute_result"
    }
   ],
   "source": [
    "traces = []\n",
    "\n",
    "for name in ('Wistar', 'TR'):\n",
    "\n",
    "    trace = Scatter3d(\n",
    "        x=Y_sklearn[y==name,0],\n",
    "        y=Y_sklearn[y==name,1],\n",
    "        z=Y_sklearn[y==name,2],\n",
    "        mode='markers',\n",
    "        name=name,\n",
    "        marker=Marker(\n",
    "            size=9,\n",
    "            line=Line(\n",
    "                color='rgba(217, 217, 217, 0.14)',\n",
    "                width=0.5),\n",
    "            opacity=0.8))\n",
    "    traces.append(trace)\n",
    "\n",
    "\n",
    "data = Data(traces)\n",
    "layout = Layout(\n",
    "    margin=dict(l=0,r=0,b=0,t=0),\n",
    "    scene=Scene(xaxis=XAxis(title='PC1', showline=False),\n",
    "    yaxis=YAxis(title='PC2', showline=False),\n",
    "    zaxis=ZAxis(title='PC3', showline=False)))\n",
    "fig = Figure(data=data, layout=layout)\n",
    "py.iplot(fig)"
   ]
  },
  {
   "cell_type": "code",
   "execution_count": null,
   "metadata": {
    "collapsed": true
   },
   "outputs": [],
   "source": []
  }
 ],
 "metadata": {
  "kernelspec": {
   "display_name": "Python 3",
   "language": "python",
   "name": "python3"
  },
  "language_info": {
   "codemirror_mode": {
    "name": "ipython",
    "version": 3
   },
   "file_extension": ".py",
   "mimetype": "text/x-python",
   "name": "python",
   "nbconvert_exporter": "python",
   "pygments_lexer": "ipython3",
   "version": "3.6.1"
  }
 },
 "nbformat": 4,
 "nbformat_minor": 2
}
